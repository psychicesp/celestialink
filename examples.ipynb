{
 "cells": [
  {
   "cell_type": "code",
   "execution_count": 1,
   "metadata": {},
   "outputs": [],
   "source": [
    "import numpy as np\n",
    "import os\n",
    "import pandas as pd\n",
    "import phenograph\n",
    "from sklearn.model_selection import train_test_split\n",
    "from sklearn.metrics import classification_report\n",
    "from sklearn.preprocessing import StandardScaler\n",
    "\n",
    "from src.segmented_svc.segmented_svc import SegmentedSVC\n",
    "\n",
    "test_df = pd.read_csv(os.path.join(\"test\", \"flow_cytometry_test_data.csv\")).fillna(0)"
   ]
  },
  {
   "cell_type": "code",
   "execution_count": 2,
   "metadata": {},
   "outputs": [
    {
     "name": "stderr",
     "output_type": "stream",
     "text": [
      "c:\\Users\\PsychicESP\\anaconda3\\Lib\\site-packages\\sklearn\\utils\\extmath.py:1051: RuntimeWarning: invalid value encountered in divide\n",
      "  updated_mean = (last_sum + new_sum) / updated_sample_count\n",
      "c:\\Users\\PsychicESP\\anaconda3\\Lib\\site-packages\\sklearn\\utils\\extmath.py:1056: RuntimeWarning: invalid value encountered in divide\n",
      "  T = new_sum / new_sample_count\n",
      "c:\\Users\\PsychicESP\\anaconda3\\Lib\\site-packages\\sklearn\\utils\\extmath.py:1076: RuntimeWarning: invalid value encountered in divide\n",
      "  new_unnormalized_variance -= correction**2 / new_sample_count\n"
     ]
    }
   ],
   "source": [
    "scaler = StandardScaler()\n",
    "\n",
    "scaled_df = scaler.fit_transform(test_df)"
   ]
  },
  {
   "cell_type": "code",
   "execution_count": 3,
   "metadata": {},
   "outputs": [
    {
     "name": "stdout",
     "output_type": "stream",
     "text": [
      "Finding 30 nearest neighbors using minkowski metric and 'auto' algorithm\n"
     ]
    },
    {
     "ename": "ValueError",
     "evalue": "Input X contains NaN.\nNearestNeighbors does not accept missing values encoded as NaN natively. For supervised learning, you might want to consider sklearn.ensemble.HistGradientBoostingClassifier and Regressor which accept missing values encoded as NaNs natively. Alternatively, it is possible to preprocess the data, for instance by using an imputer transformer in a pipeline or drop samples with missing values. See https://scikit-learn.org/stable/modules/impute.html You can find a list of all estimators that handle NaN values at the following page: https://scikit-learn.org/stable/modules/impute.html#estimators-that-handle-nan-values",
     "output_type": "error",
     "traceback": [
      "\u001b[1;31m---------------------------------------------------------------------------\u001b[0m",
      "\u001b[1;31mValueError\u001b[0m                                Traceback (most recent call last)",
      "Cell \u001b[1;32mIn[3], line 3\u001b[0m\n\u001b[0;32m      1\u001b[0m \u001b[38;5;66;03m# Clustering the whole dataset\u001b[39;00m\n\u001b[1;32m----> 3\u001b[0m communities, graph, Q  \u001b[38;5;241m=\u001b[39m phenograph\u001b[38;5;241m.\u001b[39mcluster(\n\u001b[0;32m      4\u001b[0m     scaled_df,\n\u001b[0;32m      5\u001b[0m     clustering_algo \u001b[38;5;241m=\u001b[39m \u001b[38;5;124m\"\u001b[39m\u001b[38;5;124mleiden\u001b[39m\u001b[38;5;124m\"\u001b[39m,\n\u001b[0;32m      6\u001b[0m     )\n",
      "File \u001b[1;32mc:\\Users\\PsychicESP\\anaconda3\\Lib\\site-packages\\phenograph\\cluster.py:311\u001b[0m, in \u001b[0;36mcluster\u001b[1;34m(data, clustering_algo, k, directed, prune, min_cluster_size, jaccard, primary_metric, n_jobs, q_tol, louvain_time_limit, nn_method, partition_type, resolution_parameter, n_iterations, use_weights, seed, **kargs)\u001b[0m\n\u001b[0;32m    309\u001b[0m     \u001b[38;5;28;01massert\u001b[39;00m idx\u001b[38;5;241m.\u001b[39mshape[\u001b[38;5;241m0\u001b[39m] \u001b[38;5;241m==\u001b[39m data\u001b[38;5;241m.\u001b[39mshape[\u001b[38;5;241m0\u001b[39m]\n\u001b[0;32m    310\u001b[0m \u001b[38;5;28;01melse\u001b[39;00m:\n\u001b[1;32m--> 311\u001b[0m     d, idx \u001b[38;5;241m=\u001b[39m find_neighbors(\n\u001b[0;32m    312\u001b[0m         data, k\u001b[38;5;241m=\u001b[39mk, metric\u001b[38;5;241m=\u001b[39mprimary_metric, method\u001b[38;5;241m=\u001b[39mnn_method, n_jobs\u001b[38;5;241m=\u001b[39mn_jobs\n\u001b[0;32m    313\u001b[0m     )\n\u001b[0;32m    314\u001b[0m     \u001b[38;5;28mprint\u001b[39m(\u001b[38;5;124m\"\u001b[39m\u001b[38;5;124mNeighbors computed in \u001b[39m\u001b[38;5;132;01m{}\u001b[39;00m\u001b[38;5;124m seconds\u001b[39m\u001b[38;5;124m\"\u001b[39m\u001b[38;5;241m.\u001b[39mformat(time\u001b[38;5;241m.\u001b[39mtime() \u001b[38;5;241m-\u001b[39m tic), flush\u001b[38;5;241m=\u001b[39m\u001b[38;5;28;01mTrue\u001b[39;00m)\n\u001b[0;32m    316\u001b[0m subtic \u001b[38;5;241m=\u001b[39m time\u001b[38;5;241m.\u001b[39mtime()\n",
      "File \u001b[1;32mc:\\Users\\PsychicESP\\anaconda3\\Lib\\site-packages\\phenograph\\core.py:56\u001b[0m, in \u001b[0;36mfind_neighbors\u001b[1;34m(data, k, metric, p, method, n_jobs)\u001b[0m\n\u001b[0;32m     43\u001b[0m \u001b[38;5;28mprint\u001b[39m(\n\u001b[0;32m     44\u001b[0m     \u001b[38;5;124m\"\u001b[39m\u001b[38;5;124mFinding \u001b[39m\u001b[38;5;132;01m{}\u001b[39;00m\u001b[38;5;124m nearest neighbors using \u001b[39m\u001b[38;5;132;01m{}\u001b[39;00m\u001b[38;5;124m metric and \u001b[39m\u001b[38;5;124m'\u001b[39m\u001b[38;5;132;01m{}\u001b[39;00m\u001b[38;5;124m'\u001b[39m\u001b[38;5;124m algorithm\u001b[39m\u001b[38;5;124m\"\u001b[39m\u001b[38;5;241m.\u001b[39mformat(\n\u001b[0;32m     45\u001b[0m         k, metric, algorithm\n\u001b[0;32m     46\u001b[0m     ),\n\u001b[0;32m     47\u001b[0m     flush\u001b[38;5;241m=\u001b[39m\u001b[38;5;28;01mTrue\u001b[39;00m,\n\u001b[0;32m     48\u001b[0m )\n\u001b[0;32m     49\u001b[0m \u001b[38;5;28;01mif\u001b[39;00m method \u001b[38;5;241m==\u001b[39m \u001b[38;5;124m\"\u001b[39m\u001b[38;5;124mkdtree\u001b[39m\u001b[38;5;124m\"\u001b[39m:\n\u001b[0;32m     50\u001b[0m     nbrs \u001b[38;5;241m=\u001b[39m NearestNeighbors(\n\u001b[0;32m     51\u001b[0m         n_neighbors\u001b[38;5;241m=\u001b[39mk \u001b[38;5;241m+\u001b[39m \u001b[38;5;241m1\u001b[39m,  \u001b[38;5;66;03m# k+1 because results include self\u001b[39;00m\n\u001b[0;32m     52\u001b[0m         n_jobs\u001b[38;5;241m=\u001b[39mn_jobs,  \u001b[38;5;66;03m# use multiple cores if possible\u001b[39;00m\n\u001b[0;32m     53\u001b[0m         metric\u001b[38;5;241m=\u001b[39mmetric,  \u001b[38;5;66;03m# primary metric\u001b[39;00m\n\u001b[0;32m     54\u001b[0m         p\u001b[38;5;241m=\u001b[39mp,  \u001b[38;5;66;03m# if metric == \"minkowski\", 2 --> euclidean, 1 --> manhattan\u001b[39;00m\n\u001b[0;32m     55\u001b[0m         algorithm\u001b[38;5;241m=\u001b[39malgorithm,  \u001b[38;5;66;03m# kd_tree is fastest for minkowski metrics\u001b[39;00m\n\u001b[1;32m---> 56\u001b[0m     )\u001b[38;5;241m.\u001b[39mfit(data)\n\u001b[0;32m     57\u001b[0m     d, idx \u001b[38;5;241m=\u001b[39m nbrs\u001b[38;5;241m.\u001b[39mkneighbors(data)\n\u001b[0;32m     59\u001b[0m \u001b[38;5;28;01melif\u001b[39;00m method \u001b[38;5;241m==\u001b[39m \u001b[38;5;124m\"\u001b[39m\u001b[38;5;124mbrute\u001b[39m\u001b[38;5;124m\"\u001b[39m:\n",
      "File \u001b[1;32mc:\\Users\\PsychicESP\\anaconda3\\Lib\\site-packages\\sklearn\\base.py:1151\u001b[0m, in \u001b[0;36m_fit_context.<locals>.decorator.<locals>.wrapper\u001b[1;34m(estimator, *args, **kwargs)\u001b[0m\n\u001b[0;32m   1144\u001b[0m     estimator\u001b[38;5;241m.\u001b[39m_validate_params()\n\u001b[0;32m   1146\u001b[0m \u001b[38;5;28;01mwith\u001b[39;00m config_context(\n\u001b[0;32m   1147\u001b[0m     skip_parameter_validation\u001b[38;5;241m=\u001b[39m(\n\u001b[0;32m   1148\u001b[0m         prefer_skip_nested_validation \u001b[38;5;129;01mor\u001b[39;00m global_skip_validation\n\u001b[0;32m   1149\u001b[0m     )\n\u001b[0;32m   1150\u001b[0m ):\n\u001b[1;32m-> 1151\u001b[0m     \u001b[38;5;28;01mreturn\u001b[39;00m fit_method(estimator, \u001b[38;5;241m*\u001b[39margs, \u001b[38;5;241m*\u001b[39m\u001b[38;5;241m*\u001b[39mkwargs)\n",
      "File \u001b[1;32mc:\\Users\\PsychicESP\\anaconda3\\Lib\\site-packages\\sklearn\\neighbors\\_unsupervised.py:178\u001b[0m, in \u001b[0;36mNearestNeighbors.fit\u001b[1;34m(self, X, y)\u001b[0m\n\u001b[0;32m    157\u001b[0m \u001b[38;5;129m@_fit_context\u001b[39m(\n\u001b[0;32m    158\u001b[0m     \u001b[38;5;66;03m# NearestNeighbors.metric is not validated yet\u001b[39;00m\n\u001b[0;32m    159\u001b[0m     prefer_skip_nested_validation\u001b[38;5;241m=\u001b[39m\u001b[38;5;28;01mFalse\u001b[39;00m\n\u001b[0;32m    160\u001b[0m )\n\u001b[0;32m    161\u001b[0m \u001b[38;5;28;01mdef\u001b[39;00m \u001b[38;5;21mfit\u001b[39m(\u001b[38;5;28mself\u001b[39m, X, y\u001b[38;5;241m=\u001b[39m\u001b[38;5;28;01mNone\u001b[39;00m):\n\u001b[0;32m    162\u001b[0m \u001b[38;5;250m    \u001b[39m\u001b[38;5;124;03m\"\"\"Fit the nearest neighbors estimator from the training dataset.\u001b[39;00m\n\u001b[0;32m    163\u001b[0m \n\u001b[0;32m    164\u001b[0m \u001b[38;5;124;03m    Parameters\u001b[39;00m\n\u001b[1;32m   (...)\u001b[0m\n\u001b[0;32m    176\u001b[0m \u001b[38;5;124;03m        The fitted nearest neighbors estimator.\u001b[39;00m\n\u001b[0;32m    177\u001b[0m \u001b[38;5;124;03m    \"\"\"\u001b[39;00m\n\u001b[1;32m--> 178\u001b[0m     \u001b[38;5;28;01mreturn\u001b[39;00m \u001b[38;5;28mself\u001b[39m\u001b[38;5;241m.\u001b[39m_fit(X)\n",
      "File \u001b[1;32mc:\\Users\\PsychicESP\\anaconda3\\Lib\\site-packages\\sklearn\\neighbors\\_base.py:498\u001b[0m, in \u001b[0;36mNeighborsBase._fit\u001b[1;34m(self, X, y)\u001b[0m\n\u001b[0;32m    496\u001b[0m \u001b[38;5;28;01melse\u001b[39;00m:\n\u001b[0;32m    497\u001b[0m     \u001b[38;5;28;01mif\u001b[39;00m \u001b[38;5;129;01mnot\u001b[39;00m \u001b[38;5;28misinstance\u001b[39m(X, (KDTree, BallTree, NeighborsBase)):\n\u001b[1;32m--> 498\u001b[0m         X \u001b[38;5;241m=\u001b[39m \u001b[38;5;28mself\u001b[39m\u001b[38;5;241m.\u001b[39m_validate_data(X, accept_sparse\u001b[38;5;241m=\u001b[39m\u001b[38;5;124m\"\u001b[39m\u001b[38;5;124mcsr\u001b[39m\u001b[38;5;124m\"\u001b[39m, order\u001b[38;5;241m=\u001b[39m\u001b[38;5;124m\"\u001b[39m\u001b[38;5;124mC\u001b[39m\u001b[38;5;124m\"\u001b[39m)\n\u001b[0;32m    500\u001b[0m \u001b[38;5;28mself\u001b[39m\u001b[38;5;241m.\u001b[39m_check_algorithm_metric()\n\u001b[0;32m    501\u001b[0m \u001b[38;5;28;01mif\u001b[39;00m \u001b[38;5;28mself\u001b[39m\u001b[38;5;241m.\u001b[39mmetric_params \u001b[38;5;129;01mis\u001b[39;00m \u001b[38;5;28;01mNone\u001b[39;00m:\n",
      "File \u001b[1;32mc:\\Users\\PsychicESP\\anaconda3\\Lib\\site-packages\\sklearn\\base.py:604\u001b[0m, in \u001b[0;36mBaseEstimator._validate_data\u001b[1;34m(self, X, y, reset, validate_separately, cast_to_ndarray, **check_params)\u001b[0m\n\u001b[0;32m    602\u001b[0m         out \u001b[38;5;241m=\u001b[39m X, y\n\u001b[0;32m    603\u001b[0m \u001b[38;5;28;01melif\u001b[39;00m \u001b[38;5;129;01mnot\u001b[39;00m no_val_X \u001b[38;5;129;01mand\u001b[39;00m no_val_y:\n\u001b[1;32m--> 604\u001b[0m     out \u001b[38;5;241m=\u001b[39m check_array(X, input_name\u001b[38;5;241m=\u001b[39m\u001b[38;5;124m\"\u001b[39m\u001b[38;5;124mX\u001b[39m\u001b[38;5;124m\"\u001b[39m, \u001b[38;5;241m*\u001b[39m\u001b[38;5;241m*\u001b[39mcheck_params)\n\u001b[0;32m    605\u001b[0m \u001b[38;5;28;01melif\u001b[39;00m no_val_X \u001b[38;5;129;01mand\u001b[39;00m \u001b[38;5;129;01mnot\u001b[39;00m no_val_y:\n\u001b[0;32m    606\u001b[0m     out \u001b[38;5;241m=\u001b[39m _check_y(y, \u001b[38;5;241m*\u001b[39m\u001b[38;5;241m*\u001b[39mcheck_params)\n",
      "File \u001b[1;32mc:\\Users\\PsychicESP\\anaconda3\\Lib\\site-packages\\sklearn\\utils\\validation.py:959\u001b[0m, in \u001b[0;36mcheck_array\u001b[1;34m(array, accept_sparse, accept_large_sparse, dtype, order, copy, force_all_finite, ensure_2d, allow_nd, ensure_min_samples, ensure_min_features, estimator, input_name)\u001b[0m\n\u001b[0;32m    953\u001b[0m         \u001b[38;5;28;01mraise\u001b[39;00m \u001b[38;5;167;01mValueError\u001b[39;00m(\n\u001b[0;32m    954\u001b[0m             \u001b[38;5;124m\"\u001b[39m\u001b[38;5;124mFound array with dim \u001b[39m\u001b[38;5;132;01m%d\u001b[39;00m\u001b[38;5;124m. \u001b[39m\u001b[38;5;132;01m%s\u001b[39;00m\u001b[38;5;124m expected <= 2.\u001b[39m\u001b[38;5;124m\"\u001b[39m\n\u001b[0;32m    955\u001b[0m             \u001b[38;5;241m%\u001b[39m (array\u001b[38;5;241m.\u001b[39mndim, estimator_name)\n\u001b[0;32m    956\u001b[0m         )\n\u001b[0;32m    958\u001b[0m     \u001b[38;5;28;01mif\u001b[39;00m force_all_finite:\n\u001b[1;32m--> 959\u001b[0m         _assert_all_finite(\n\u001b[0;32m    960\u001b[0m             array,\n\u001b[0;32m    961\u001b[0m             input_name\u001b[38;5;241m=\u001b[39minput_name,\n\u001b[0;32m    962\u001b[0m             estimator_name\u001b[38;5;241m=\u001b[39mestimator_name,\n\u001b[0;32m    963\u001b[0m             allow_nan\u001b[38;5;241m=\u001b[39mforce_all_finite \u001b[38;5;241m==\u001b[39m \u001b[38;5;124m\"\u001b[39m\u001b[38;5;124mallow-nan\u001b[39m\u001b[38;5;124m\"\u001b[39m,\n\u001b[0;32m    964\u001b[0m         )\n\u001b[0;32m    966\u001b[0m \u001b[38;5;28;01mif\u001b[39;00m ensure_min_samples \u001b[38;5;241m>\u001b[39m \u001b[38;5;241m0\u001b[39m:\n\u001b[0;32m    967\u001b[0m     n_samples \u001b[38;5;241m=\u001b[39m _num_samples(array)\n",
      "File \u001b[1;32mc:\\Users\\PsychicESP\\anaconda3\\Lib\\site-packages\\sklearn\\utils\\validation.py:124\u001b[0m, in \u001b[0;36m_assert_all_finite\u001b[1;34m(X, allow_nan, msg_dtype, estimator_name, input_name)\u001b[0m\n\u001b[0;32m    121\u001b[0m \u001b[38;5;28;01mif\u001b[39;00m first_pass_isfinite:\n\u001b[0;32m    122\u001b[0m     \u001b[38;5;28;01mreturn\u001b[39;00m\n\u001b[1;32m--> 124\u001b[0m _assert_all_finite_element_wise(\n\u001b[0;32m    125\u001b[0m     X,\n\u001b[0;32m    126\u001b[0m     xp\u001b[38;5;241m=\u001b[39mxp,\n\u001b[0;32m    127\u001b[0m     allow_nan\u001b[38;5;241m=\u001b[39mallow_nan,\n\u001b[0;32m    128\u001b[0m     msg_dtype\u001b[38;5;241m=\u001b[39mmsg_dtype,\n\u001b[0;32m    129\u001b[0m     estimator_name\u001b[38;5;241m=\u001b[39mestimator_name,\n\u001b[0;32m    130\u001b[0m     input_name\u001b[38;5;241m=\u001b[39minput_name,\n\u001b[0;32m    131\u001b[0m )\n",
      "File \u001b[1;32mc:\\Users\\PsychicESP\\anaconda3\\Lib\\site-packages\\sklearn\\utils\\validation.py:173\u001b[0m, in \u001b[0;36m_assert_all_finite_element_wise\u001b[1;34m(X, xp, allow_nan, msg_dtype, estimator_name, input_name)\u001b[0m\n\u001b[0;32m    156\u001b[0m \u001b[38;5;28;01mif\u001b[39;00m estimator_name \u001b[38;5;129;01mand\u001b[39;00m input_name \u001b[38;5;241m==\u001b[39m \u001b[38;5;124m\"\u001b[39m\u001b[38;5;124mX\u001b[39m\u001b[38;5;124m\"\u001b[39m \u001b[38;5;129;01mand\u001b[39;00m has_nan_error:\n\u001b[0;32m    157\u001b[0m     \u001b[38;5;66;03m# Improve the error message on how to handle missing values in\u001b[39;00m\n\u001b[0;32m    158\u001b[0m     \u001b[38;5;66;03m# scikit-learn.\u001b[39;00m\n\u001b[0;32m    159\u001b[0m     msg_err \u001b[38;5;241m+\u001b[39m\u001b[38;5;241m=\u001b[39m (\n\u001b[0;32m    160\u001b[0m         \u001b[38;5;124mf\u001b[39m\u001b[38;5;124m\"\u001b[39m\u001b[38;5;130;01m\\n\u001b[39;00m\u001b[38;5;132;01m{\u001b[39;00mestimator_name\u001b[38;5;132;01m}\u001b[39;00m\u001b[38;5;124m does not accept missing values\u001b[39m\u001b[38;5;124m\"\u001b[39m\n\u001b[0;32m    161\u001b[0m         \u001b[38;5;124m\"\u001b[39m\u001b[38;5;124m encoded as NaN natively. For supervised learning, you might want\u001b[39m\u001b[38;5;124m\"\u001b[39m\n\u001b[1;32m   (...)\u001b[0m\n\u001b[0;32m    171\u001b[0m         \u001b[38;5;124m\"\u001b[39m\u001b[38;5;124m#estimators-that-handle-nan-values\u001b[39m\u001b[38;5;124m\"\u001b[39m\n\u001b[0;32m    172\u001b[0m     )\n\u001b[1;32m--> 173\u001b[0m \u001b[38;5;28;01mraise\u001b[39;00m \u001b[38;5;167;01mValueError\u001b[39;00m(msg_err)\n",
      "\u001b[1;31mValueError\u001b[0m: Input X contains NaN.\nNearestNeighbors does not accept missing values encoded as NaN natively. For supervised learning, you might want to consider sklearn.ensemble.HistGradientBoostingClassifier and Regressor which accept missing values encoded as NaNs natively. Alternatively, it is possible to preprocess the data, for instance by using an imputer transformer in a pipeline or drop samples with missing values. See https://scikit-learn.org/stable/modules/impute.html You can find a list of all estimators that handle NaN values at the following page: https://scikit-learn.org/stable/modules/impute.html#estimators-that-handle-nan-values"
     ]
    }
   ],
   "source": [
    "# Clustering the whole dataset\n",
    "\n",
    "communities, graph, Q  = phenograph.cluster(\n",
    "    scaled_df,\n",
    "    clustering_algo = \"leiden\",\n",
    "    )"
   ]
  },
  {
   "cell_type": "code",
   "execution_count": null,
   "metadata": {},
   "outputs": [
    {
     "data": {
      "text/plain": [
       "25"
      ]
     },
     "execution_count": 10,
     "metadata": {},
     "output_type": "execute_result"
    }
   ],
   "source": [
    "communities.max()"
   ]
  },
  {
   "cell_type": "code",
   "execution_count": null,
   "metadata": {},
   "outputs": [
    {
     "name": "stderr",
     "output_type": "stream",
     "text": [
      "c:\\Users\\PsychicESP\\anaconda3\\Lib\\site-packages\\sklearn\\cluster\\_kmeans.py:1412: FutureWarning: The default value of `n_init` will change from 10 to 'auto' in 1.4. Set the value of `n_init` explicitly to suppress the warning\n",
      "  super()._check_params_vs_input(X, default_n_init=10)\n"
     ]
    }
   ],
   "source": [
    "# We can use the SegmentedSVC to do the same computation in less time\n",
    "\n",
    "#   We need to use unscaled data because the SegmentedSVC object \n",
    "# will train and use its own\n",
    "\n",
    "train_data, test_data, train_labels, test_labels = train_test_split(test_df.values, communities, train_size=0.8)\n",
    "\n",
    "celestia_object = SegmentedSVC(\n",
    "    data = train_data,\n",
    "    labels = train_labels\n",
    ")"
   ]
  },
  {
   "cell_type": "code",
   "execution_count": null,
   "metadata": {},
   "outputs": [
    {
     "data": {
      "text/plain": [
       "array([ 9., 16.,  9., ...,  0., 12.,  5.])"
      ]
     },
     "execution_count": 14,
     "metadata": {},
     "output_type": "execute_result"
    }
   ],
   "source": [
    "predicted_labels = celestia_object.predict(test_data)\n",
    "predicted_labels"
   ]
  },
  {
   "cell_type": "code",
   "execution_count": null,
   "metadata": {},
   "outputs": [
    {
     "name": "stdout",
     "output_type": "stream",
     "text": [
      "              precision    recall  f1-score   support\n",
      "\n",
      "           0       0.93      0.93      0.93     10145\n",
      "           1       0.94      0.94      0.94      9988\n",
      "           2       0.95      0.96      0.96      9105\n",
      "           3       0.99      0.99      0.99      7227\n",
      "           4       0.92      0.93      0.93      7047\n",
      "           5       0.93      0.92      0.93      7063\n",
      "           6       0.96      0.96      0.96      5897\n",
      "           7       0.97      0.97      0.97      5660\n",
      "           8       0.93      0.92      0.92      5049\n",
      "           9       0.97      0.98      0.97      4313\n",
      "          10       0.99      0.99      0.99      4189\n",
      "          11       0.93      0.92      0.93      3691\n",
      "          12       0.96      0.96      0.96      3401\n",
      "          13       0.95      0.94      0.94      3030\n",
      "          14       0.97      0.96      0.96      3020\n",
      "          15       0.97      0.96      0.97      2558\n",
      "          16       0.94      0.92      0.93      2206\n",
      "          17       0.96      0.95      0.95      2144\n",
      "          18       0.94      0.95      0.95      2026\n",
      "          19       0.96      0.96      0.96      1829\n",
      "          20       0.95      0.95      0.95      1645\n",
      "          21       0.94      0.89      0.92       519\n",
      "          22       0.98      0.94      0.96       452\n",
      "          23       0.98      0.96      0.97       318\n",
      "          24       0.99      0.99      0.99        78\n",
      "          25       0.92      0.96      0.94        51\n",
      "\n",
      "    accuracy                           0.95    102651\n",
      "   macro avg       0.95      0.95      0.95    102651\n",
      "weighted avg       0.95      0.95      0.95    102651\n",
      "\n"
     ]
    }
   ],
   "source": [
    "report = classification_report(test_labels, predicted_labels)\n",
    "\n",
    "print(report)"
   ]
  },
  {
   "cell_type": "code",
   "execution_count": null,
   "metadata": {},
   "outputs": [
    {
     "name": "stderr",
     "output_type": "stream",
     "text": [
      "c:\\Users\\PsychicESP\\anaconda3\\Lib\\site-packages\\sklearn\\cluster\\_kmeans.py:1412: FutureWarning: The default value of `n_init` will change from 10 to 'auto' in 1.4. Set the value of `n_init` explicitly to suppress the warning\n",
      "  super()._check_params_vs_input(X, default_n_init=10)\n"
     ]
    },
    {
     "name": "stdout",
     "output_type": "stream",
     "text": [
      "              precision    recall  f1-score   support\n",
      "\n",
      "           0       0.92      0.92      0.92     40219\n",
      "           1       0.93      0.93      0.93     39817\n",
      "           2       0.94      0.96      0.95     36572\n",
      "           3       0.99      0.99      0.99     28546\n",
      "           4       0.92      0.91      0.92     28558\n",
      "           5       0.91      0.92      0.92     28457\n",
      "           6       0.96      0.94      0.95     23292\n",
      "           7       0.96      0.97      0.96     22370\n",
      "           8       0.92      0.91      0.91     20379\n",
      "           9       0.96      0.97      0.97     17039\n",
      "          10       0.99      0.99      0.99     16497\n",
      "          11       0.92      0.91      0.91     15094\n",
      "          12       0.94      0.94      0.94     13596\n",
      "          13       0.93      0.91      0.92     12528\n",
      "          14       0.96      0.94      0.95     11867\n",
      "          15       0.97      0.94      0.95     10141\n",
      "          16       0.92      0.91      0.92      8931\n",
      "          17       0.94      0.92      0.93      8741\n",
      "          18       0.92      0.92      0.92      8121\n",
      "          19       0.88      0.97      0.92      7340\n",
      "          20       0.94      0.92      0.93      6693\n",
      "          21       0.93      0.85      0.89      2149\n",
      "          22       0.97      0.92      0.94      1859\n",
      "          23       0.98      0.91      0.94      1302\n",
      "          24       0.99      0.93      0.96       307\n",
      "          25       0.98      0.83      0.90       189\n",
      "\n",
      "    accuracy                           0.94    410604\n",
      "   macro avg       0.94      0.93      0.94    410604\n",
      "weighted avg       0.94      0.94      0.94    410604\n",
      "\n"
     ]
    }
   ],
   "source": [
    "# It also works just fine with a small train set\n",
    "\n",
    "train_data, test_data, train_labels, test_labels = train_test_split(\n",
    "    test_df.values, \n",
    "    communities, \n",
    "    train_size=0.2\n",
    "    )\n",
    "\n",
    "celestia_object = SegmentedSVC(\n",
    "    data = train_data,\n",
    "    labels = train_labels\n",
    ")\n",
    "\n",
    "predicted_labels = celestia_object.predict(test_data)\n",
    "predicted_labels\n",
    "\n",
    "report = classification_report(test_labels, predicted_labels)\n",
    "\n",
    "print(report)"
   ]
  },
  {
   "cell_type": "code",
   "execution_count": null,
   "metadata": {},
   "outputs": [
    {
     "name": "stdout",
     "output_type": "stream",
     "text": [
      "Finding 30 nearest neighbors using minkowski metric and 'auto' algorithm\n"
     ]
    },
    {
     "name": "stdout",
     "output_type": "stream",
     "text": [
      "Neighbors computed in 8.734695434570312 seconds\n",
      "Jaccard graph constructed in 10.755605459213257 seconds\n",
      "Running Leiden optimization\n",
      "Leiden completed in 60.13450860977173 seconds\n",
      "Sorting communities by size, please wait ...\n",
      "PhenoGraph completed in 83.61015629768372 seconds\n"
     ]
    },
    {
     "name": "stderr",
     "output_type": "stream",
     "text": [
      "c:\\Users\\PsychicESP\\anaconda3\\Lib\\site-packages\\sklearn\\cluster\\_kmeans.py:1412: FutureWarning: The default value of `n_init` will change from 10 to 'auto' in 1.4. Set the value of `n_init` explicitly to suppress the warning\n",
      "  super()._check_params_vs_input(X, default_n_init=10)\n"
     ]
    },
    {
     "name": "stdout",
     "output_type": "stream",
     "text": [
      "[{'Leiden': 83,\n",
      "  'SegmentedSVC Predicting': 43,\n",
      "  'SegmentedSVC Training': 21,\n",
      "  'index': 30.0}]\n",
      "Finding 30 nearest neighbors using minkowski metric and 'auto' algorithm\n",
      "Neighbors computed in 15.898804426193237 seconds\n",
      "Jaccard graph constructed in 13.000689029693604 seconds\n",
      "Running Leiden optimization\n",
      "Leiden completed in 167.3783209323883 seconds\n",
      "Sorting communities by size, please wait ...\n",
      "PhenoGraph completed in 201.8471999168396 seconds\n"
     ]
    },
    {
     "name": "stderr",
     "output_type": "stream",
     "text": [
      "c:\\Users\\PsychicESP\\anaconda3\\Lib\\site-packages\\sklearn\\cluster\\_kmeans.py:1412: FutureWarning: The default value of `n_init` will change from 10 to 'auto' in 1.4. Set the value of `n_init` explicitly to suppress the warning\n",
      "  super()._check_params_vs_input(X, default_n_init=10)\n"
     ]
    },
    {
     "name": "stdout",
     "output_type": "stream",
     "text": [
      "[{'Leiden': 83,\n",
      "  'SegmentedSVC Predicting': 43,\n",
      "  'SegmentedSVC Training': 21,\n",
      "  'index': 30.0},\n",
      " {'Leiden': 201,\n",
      "  'SegmentedSVC Predicting': 73,\n",
      "  'SegmentedSVC Training': 39,\n",
      "  'index': 40.0}]\n",
      "Finding 30 nearest neighbors using minkowski metric and 'auto' algorithm\n",
      "Neighbors computed in 17.1208758354187 seconds\n",
      "Jaccard graph constructed in 15.539642572402954 seconds\n",
      "Running Leiden optimization\n",
      "Leiden completed in 127.33467245101929 seconds\n",
      "Sorting communities by size, please wait ...\n",
      "PhenoGraph completed in 165.6311604976654 seconds\n"
     ]
    },
    {
     "name": "stderr",
     "output_type": "stream",
     "text": [
      "c:\\Users\\PsychicESP\\anaconda3\\Lib\\site-packages\\sklearn\\cluster\\_kmeans.py:1412: FutureWarning: The default value of `n_init` will change from 10 to 'auto' in 1.4. Set the value of `n_init` explicitly to suppress the warning\n",
      "  super()._check_params_vs_input(X, default_n_init=10)\n"
     ]
    },
    {
     "name": "stdout",
     "output_type": "stream",
     "text": [
      "[{'Leiden': 83,\n",
      "  'SegmentedSVC Predicting': 43,\n",
      "  'SegmentedSVC Training': 21,\n",
      "  'index': 30.0},\n",
      " {'Leiden': 201,\n",
      "  'SegmentedSVC Predicting': 73,\n",
      "  'SegmentedSVC Training': 39,\n",
      "  'index': 40.0},\n",
      " {'Leiden': 165,\n",
      "  'SegmentedSVC Predicting': 110,\n",
      "  'SegmentedSVC Training': 58,\n",
      "  'index': 50.0}]\n",
      "Finding 30 nearest neighbors using minkowski metric and 'auto' algorithm\n",
      "Neighbors computed in 25.43706512451172 seconds\n",
      "Jaccard graph constructed in 18.055782318115234 seconds\n",
      "Running Leiden optimization\n",
      "Leiden completed in 213.0628867149353 seconds\n",
      "Sorting communities by size, please wait ...\n",
      "PhenoGraph completed in 263.00885128974915 seconds\n"
     ]
    },
    {
     "name": "stderr",
     "output_type": "stream",
     "text": [
      "c:\\Users\\PsychicESP\\anaconda3\\Lib\\site-packages\\sklearn\\cluster\\_kmeans.py:1412: FutureWarning: The default value of `n_init` will change from 10 to 'auto' in 1.4. Set the value of `n_init` explicitly to suppress the warning\n",
      "  super()._check_params_vs_input(X, default_n_init=10)\n"
     ]
    },
    {
     "name": "stdout",
     "output_type": "stream",
     "text": [
      "[{'Leiden': 83,\n",
      "  'SegmentedSVC Predicting': 43,\n",
      "  'SegmentedSVC Training': 21,\n",
      "  'index': 30.0},\n",
      " {'Leiden': 201,\n",
      "  'SegmentedSVC Predicting': 73,\n",
      "  'SegmentedSVC Training': 39,\n",
      "  'index': 40.0},\n",
      " {'Leiden': 165,\n",
      "  'SegmentedSVC Predicting': 110,\n",
      "  'SegmentedSVC Training': 58,\n",
      "  'index': 50.0},\n",
      " {'Leiden': 263,\n",
      "  'SegmentedSVC Predicting': 174,\n",
      "  'SegmentedSVC Training': 84,\n",
      "  'index': 60.0}]\n",
      "Finding 30 nearest neighbors using minkowski metric and 'auto' algorithm\n",
      "Neighbors computed in 32.56760239601135 seconds\n",
      "Jaccard graph constructed in 20.228790998458862 seconds\n",
      "Running Leiden optimization\n",
      "Leiden completed in 424.70195031166077 seconds\n",
      "Sorting communities by size, please wait ...\n",
      "PhenoGraph completed in 484.70691657066345 seconds\n"
     ]
    },
    {
     "name": "stderr",
     "output_type": "stream",
     "text": [
      "c:\\Users\\PsychicESP\\anaconda3\\Lib\\site-packages\\sklearn\\cluster\\_kmeans.py:1412: FutureWarning: The default value of `n_init` will change from 10 to 'auto' in 1.4. Set the value of `n_init` explicitly to suppress the warning\n",
      "  super()._check_params_vs_input(X, default_n_init=10)\n"
     ]
    },
    {
     "name": "stdout",
     "output_type": "stream",
     "text": [
      "[{'Leiden': 83,\n",
      "  'SegmentedSVC Predicting': 43,\n",
      "  'SegmentedSVC Training': 21,\n",
      "  'index': 30.0},\n",
      " {'Leiden': 201,\n",
      "  'SegmentedSVC Predicting': 73,\n",
      "  'SegmentedSVC Training': 39,\n",
      "  'index': 40.0},\n",
      " {'Leiden': 165,\n",
      "  'SegmentedSVC Predicting': 110,\n",
      "  'SegmentedSVC Training': 58,\n",
      "  'index': 50.0},\n",
      " {'Leiden': 263,\n",
      "  'SegmentedSVC Predicting': 174,\n",
      "  'SegmentedSVC Training': 84,\n",
      "  'index': 60.0},\n",
      " {'Leiden': 484,\n",
      "  'SegmentedSVC Predicting': 281,\n",
      "  'SegmentedSVC Training': 142,\n",
      "  'index': 70.0}]\n",
      "Finding 30 nearest neighbors using minkowski metric and 'auto' algorithm\n",
      "Neighbors computed in 40.35634803771973 seconds\n",
      "Jaccard graph constructed in 23.361350536346436 seconds\n",
      "Running Leiden optimization\n",
      "Leiden completed in 330.8852596282959 seconds\n",
      "Sorting communities by size, please wait ...\n",
      "PhenoGraph completed in 402.62000584602356 seconds\n"
     ]
    },
    {
     "name": "stderr",
     "output_type": "stream",
     "text": [
      "c:\\Users\\PsychicESP\\anaconda3\\Lib\\site-packages\\sklearn\\cluster\\_kmeans.py:1412: FutureWarning: The default value of `n_init` will change from 10 to 'auto' in 1.4. Set the value of `n_init` explicitly to suppress the warning\n",
      "  super()._check_params_vs_input(X, default_n_init=10)\n"
     ]
    },
    {
     "name": "stdout",
     "output_type": "stream",
     "text": [
      "[{'Leiden': 83,\n",
      "  'SegmentedSVC Predicting': 43,\n",
      "  'SegmentedSVC Training': 21,\n",
      "  'index': 30.0},\n",
      " {'Leiden': 201,\n",
      "  'SegmentedSVC Predicting': 73,\n",
      "  'SegmentedSVC Training': 39,\n",
      "  'index': 40.0},\n",
      " {'Leiden': 165,\n",
      "  'SegmentedSVC Predicting': 110,\n",
      "  'SegmentedSVC Training': 58,\n",
      "  'index': 50.0},\n",
      " {'Leiden': 263,\n",
      "  'SegmentedSVC Predicting': 174,\n",
      "  'SegmentedSVC Training': 84,\n",
      "  'index': 60.0},\n",
      " {'Leiden': 484,\n",
      "  'SegmentedSVC Predicting': 281,\n",
      "  'SegmentedSVC Training': 142,\n",
      "  'index': 70.0},\n",
      " {'Leiden': 402,\n",
      "  'SegmentedSVC Predicting': 294,\n",
      "  'SegmentedSVC Training': 160,\n",
      "  'index': 80.0}]\n",
      "Finding 30 nearest neighbors using minkowski metric and 'auto' algorithm\n",
      "Neighbors computed in 39.111478328704834 seconds\n",
      "Jaccard graph constructed in 25.85306167602539 seconds\n",
      "Running Leiden optimization\n",
      "Leiden completed in 485.3403422832489 seconds\n",
      "Sorting communities by size, please wait ...\n",
      "PhenoGraph completed in 559.6573264598846 seconds\n"
     ]
    },
    {
     "name": "stderr",
     "output_type": "stream",
     "text": [
      "c:\\Users\\PsychicESP\\anaconda3\\Lib\\site-packages\\sklearn\\cluster\\_kmeans.py:1412: FutureWarning: The default value of `n_init` will change from 10 to 'auto' in 1.4. Set the value of `n_init` explicitly to suppress the warning\n",
      "  super()._check_params_vs_input(X, default_n_init=10)\n"
     ]
    },
    {
     "name": "stdout",
     "output_type": "stream",
     "text": [
      "[{'Leiden': 83,\n",
      "  'SegmentedSVC Predicting': 43,\n",
      "  'SegmentedSVC Training': 21,\n",
      "  'index': 30.0},\n",
      " {'Leiden': 201,\n",
      "  'SegmentedSVC Predicting': 73,\n",
      "  'SegmentedSVC Training': 39,\n",
      "  'index': 40.0},\n",
      " {'Leiden': 165,\n",
      "  'SegmentedSVC Predicting': 110,\n",
      "  'SegmentedSVC Training': 58,\n",
      "  'index': 50.0},\n",
      " {'Leiden': 263,\n",
      "  'SegmentedSVC Predicting': 174,\n",
      "  'SegmentedSVC Training': 84,\n",
      "  'index': 60.0},\n",
      " {'Leiden': 484,\n",
      "  'SegmentedSVC Predicting': 281,\n",
      "  'SegmentedSVC Training': 142,\n",
      "  'index': 70.0},\n",
      " {'Leiden': 402,\n",
      "  'SegmentedSVC Predicting': 294,\n",
      "  'SegmentedSVC Training': 160,\n",
      "  'index': 80.0},\n",
      " {'Leiden': 559,\n",
      "  'SegmentedSVC Predicting': 421,\n",
      "  'SegmentedSVC Training': 248,\n",
      "  'index': 89.99999999999999}]\n",
      "Finding 30 nearest neighbors using minkowski metric and 'auto' algorithm\n",
      "Neighbors computed in 42.67114853858948 seconds\n",
      "Jaccard graph constructed in 28.19801640510559 seconds\n",
      "Running Leiden optimization\n",
      "Leiden completed in 833.9518971443176 seconds\n",
      "Sorting communities by size, please wait ...\n",
      "PhenoGraph completed in 914.4703750610352 seconds\n"
     ]
    },
    {
     "name": "stderr",
     "output_type": "stream",
     "text": [
      "c:\\Users\\PsychicESP\\anaconda3\\Lib\\site-packages\\sklearn\\cluster\\_kmeans.py:1412: FutureWarning: The default value of `n_init` will change from 10 to 'auto' in 1.4. Set the value of `n_init` explicitly to suppress the warning\n",
      "  super()._check_params_vs_input(X, default_n_init=10)\n"
     ]
    },
    {
     "name": "stdout",
     "output_type": "stream",
     "text": [
      "[{'Leiden': 83,\n",
      "  'SegmentedSVC Predicting': 43,\n",
      "  'SegmentedSVC Training': 21,\n",
      "  'index': 30.0},\n",
      " {'Leiden': 201,\n",
      "  'SegmentedSVC Predicting': 73,\n",
      "  'SegmentedSVC Training': 39,\n",
      "  'index': 40.0},\n",
      " {'Leiden': 165,\n",
      "  'SegmentedSVC Predicting': 110,\n",
      "  'SegmentedSVC Training': 58,\n",
      "  'index': 50.0},\n",
      " {'Leiden': 263,\n",
      "  'SegmentedSVC Predicting': 174,\n",
      "  'SegmentedSVC Training': 84,\n",
      "  'index': 60.0},\n",
      " {'Leiden': 484,\n",
      "  'SegmentedSVC Predicting': 281,\n",
      "  'SegmentedSVC Training': 142,\n",
      "  'index': 70.0},\n",
      " {'Leiden': 402,\n",
      "  'SegmentedSVC Predicting': 294,\n",
      "  'SegmentedSVC Training': 160,\n",
      "  'index': 80.0},\n",
      " {'Leiden': 559,\n",
      "  'SegmentedSVC Predicting': 421,\n",
      "  'SegmentedSVC Training': 248,\n",
      "  'index': 89.99999999999999},\n",
      " {'Leiden': 914,\n",
      "  'SegmentedSVC Predicting': 514,\n",
      "  'SegmentedSVC Training': 256,\n",
      "  'index': 99.99999999999999}]\n"
     ]
    }
   ],
   "source": [
    "# Why save a couple minutes to go from 100% accuracy to 94?\n",
    "\n",
    "from pprint import pprint\n",
    "from datetime import datetime as dt \n",
    "\n",
    "x = 0.30\n",
    "\n",
    "run_times = []\n",
    "\n",
    "while x < 1:\n",
    "    run_dict = {}\n",
    "    sub_df = test_df.sample(frac = x, replace=False)\n",
    "    run_dict['index'] = x * 100\n",
    "    scaler = StandardScaler()\n",
    "    scaled_sub_df = scaler.fit_transform(sub_df)\n",
    "    \n",
    "    \n",
    "    t1 = dt.now()\n",
    "    communities, graph, Q  = phenograph.cluster(\n",
    "    scaled_sub_df,\n",
    "    clustering_algo = \"leiden\",\n",
    "    )\n",
    "    t2 = dt.now()\n",
    "    time_elapsed = t2-t1\n",
    "    run_dict['Leiden'] = time_elapsed.seconds\n",
    "    \n",
    "    \n",
    "    t1 = dt.now()\n",
    "    celestia_object = SegmentedSVC(\n",
    "    data = sub_df.values,\n",
    "    labels = communities\n",
    "    )\n",
    "    t2 = dt.now()\n",
    "    time_elapsed = t2-t1\n",
    "    run_dict['SegmentedSVC Training'] = time_elapsed.seconds\n",
    "    \n",
    "    \n",
    "    t1 = dt.now()\n",
    "    _ = celestia_object.predict(sub_df.values)\n",
    "    t2 = dt.now()\n",
    "    time_elapsed = t2-t1\n",
    "    run_dict['SegmentedSVC Predicting'] = time_elapsed.seconds\n",
    "    \n",
    "    \n",
    "    run_times.append(run_dict)\n",
    "    \n",
    "    pprint(run_dict)\n",
    "    \n",
    "    x += 0.10\n",
    "    \n",
    "run_df = pd.DataFrame(run_times)\n",
    "    "
   ]
  },
  {
   "cell_type": "code",
   "execution_count": null,
   "metadata": {},
   "outputs": [],
   "source": [
    "run_df"
   ]
  }
 ],
 "metadata": {
  "kernelspec": {
   "display_name": "base",
   "language": "python",
   "name": "python3"
  },
  "language_info": {
   "codemirror_mode": {
    "name": "ipython",
    "version": 3
   },
   "file_extension": ".py",
   "mimetype": "text/x-python",
   "name": "python",
   "nbconvert_exporter": "python",
   "pygments_lexer": "ipython3",
   "version": "3.11.5"
  }
 },
 "nbformat": 4,
 "nbformat_minor": 2
}
